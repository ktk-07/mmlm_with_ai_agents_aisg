{
 "cells": [
  {
   "cell_type": "markdown",
   "metadata": {},
   "source": [
    "# Testing Agent Class Definition"
   ]
  },
  {
   "cell_type": "markdown",
   "metadata": {},
   "source": [
    "This should follow an orchestrator workers agentic workflow \n",
    "This is an basic overiew\n",
    "Difference between orchestrator and workers\n",
    "\n",
    "Communication between then orchestrator and its workers:\n",
    "    Requirements parallel or at least asynchronous\n",
    "    Workers should be able to call multiple tools should they?\n",
    "\n",
    "Tools\n",
    "\n",
    "Memory ( Do we really need it?):\n",
    "    - usually a sliding window (can based this off the model itself)\n",
    "\n",
    "My thought process:\n",
    "1 parent class Agent\n",
    "    - powered by an LLM\n",
    "\n",
    "Child class:\n",
    "Orchestrator - an agent powered by llm\n",
    "\n",
    "\n",
    "Workers - can agent powered by llm"
   ]
  },
  {
   "cell_type": "code",
   "execution_count": null,
   "metadata": {},
   "outputs": [],
   "source": [
    "system_prompt = \"\"\"\n",
    "You are a \n",
    "You need to analyse the\n",
    "\"\"\""
   ]
  },
  {
   "cell_type": "markdown",
   "metadata": {},
   "source": [
    "# The Agent Class\n",
    "\n",
    "Agent powered by a base model"
   ]
  },
  {
   "cell_type": "code",
   "execution_count": null,
   "metadata": {},
   "outputs": [],
   "source": [
    "class Agent:\n",
    "    def __init__(self,base_model):\n",
    "        self.base_model = base_model\n",
    "\n",
    "    def __call__(self, *args, **kwds):\n",
    "        pass\n",
    "    \n",
    "    def instantiate_multiple_workers(self):\n",
    "        pass"
   ]
  },
  {
   "cell_type": "code",
   "execution_count": null,
   "metadata": {},
   "outputs": [],
   "source": [
    "class Worker(Agent):\n",
    "    def __init__(self,task_type):\n",
    "        super().__init__()\n",
    "        self.task_type = task_type\n",
    "    def __call__():\n",
    "        return"
   ]
  },
  {
   "cell_type": "code",
   "execution_count": null,
   "metadata": {},
   "outputs": [],
   "source": [
    "class Orchestrator(Agent):\n",
    "    def __init__(self,num_of_workers):\n",
    "        super().__init__()\n",
    "        self.num_of_workers = num_of_workers"
   ]
  }
 ],
 "metadata": {
  "kernelspec": {
   "display_name": "AISG",
   "language": "python",
   "name": "python3"
  },
  "language_info": {
   "codemirror_mode": {
    "name": "ipython",
    "version": 3
   },
   "file_extension": ".py",
   "mimetype": "text/x-python",
   "name": "python",
   "nbconvert_exporter": "python",
   "pygments_lexer": "ipython3",
   "version": "3.11.7"
  }
 },
 "nbformat": 4,
 "nbformat_minor": 2
}
